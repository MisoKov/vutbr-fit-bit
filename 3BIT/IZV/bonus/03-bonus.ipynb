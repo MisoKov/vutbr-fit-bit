{
 "cells": [
  {
   "cell_type": "markdown",
   "metadata": {},
   "source": [
    "## Bonusový úkol č. 2 - stahování dat z webového zdroje\n",
    "Vytvořte funkci **sync()**, která získá kompletní seznam produktů (tj. včetně dalších stránek) dostupných v kategorii\n",
    "https://www.alza.cz/bezzrcadlovky-bez-objektivu/18863907.htm\n",
    "a u každého produktu zjistí jeho aktuální cenu a stav skladu.\n",
    "Funkce bude uchovávat získané informace a historii změn v relační databázi SQLLite3 obsahující dvě tabulky:  \n",
    "* tabulku `products` a  \n",
    "* tabulku `products_history`.\n",
    "\n",
    "Struktura obou tabulek je shodná a obsahuje následující sloupce:  \n",
    "* `id` TEXT - id produktu, např. OS072i1l1 (viz data-impression-id),  \n",
    "* `url` TEXT - url produktu k kterému se vztahuje cena (pouze část path, viz ukázka na konci),  \n",
    "* `title` TEXT - název produktu,  \n",
    "* `price` DECIMAL - cena produktu s DPH k danému datu,   \n",
    "* `stock_state` TEXT - stav skladu k danému datu,  \n",
    "* `last_update` DATETIME - datum poslední změny hodnot záznamu v UTC  \n",
    "\n",
    "Do tabulky `products_history` zkopírujte záznam z tabulky `products` ve chvíli, kdy se změnil nějaký sledovaný údaj (název, cena nebo stav skladu) a je potřeba aktualizovat data v tabulce `products`. Pozor, jedno `id` může mít více variant `url` s různou cenou. Při opětovném volání funkce **sync()** se prověří existence záznamu v `products`, prověří se shoda hodnot a vždy aktualizuje hodnota `last_update`, aby bylo zřejmé, ke kterému datu je informace platná.\n",
    "\n",
    "**Předpokládaná náročnost**: 1 hodina"
   ]
  },
  {
   "cell_type": "markdown",
   "metadata": {},
   "source": [
    "### Závislosti, načtení knihoven\n",
    "\n",
    "V následující buňce deklarujte všechny závislosti"
   ]
  },
  {
   "cell_type": "code",
   "execution_count": 2,
   "metadata": {},
   "outputs": [
    {
     "name": "stdout",
     "output_type": "stream",
     "text": [
      "Requirement already satisfied: requests in /home/skankunt42/anaconda3/lib/python3.8/site-packages (2.24.0)\n",
      "Requirement already satisfied: requests_cache in /home/skankunt42/anaconda3/lib/python3.8/site-packages (0.5.2)\n",
      "Requirement already satisfied: bs4 in /home/skankunt42/anaconda3/lib/python3.8/site-packages (0.0.1)\n",
      "Requirement already satisfied: urllib3!=1.25.0,!=1.25.1,<1.26,>=1.21.1 in /home/skankunt42/anaconda3/lib/python3.8/site-packages (from requests) (1.25.10)\n",
      "Requirement already satisfied: chardet<4,>=3.0.2 in /home/skankunt42/anaconda3/lib/python3.8/site-packages (from requests) (3.0.4)\n",
      "Requirement already satisfied: idna<3,>=2.5 in /home/skankunt42/anaconda3/lib/python3.8/site-packages (from requests) (2.10)\n",
      "Requirement already satisfied: certifi>=2017.4.17 in /home/skankunt42/anaconda3/lib/python3.8/site-packages (from requests) (2020.6.20)\n",
      "Requirement already satisfied: beautifulsoup4 in /home/skankunt42/anaconda3/lib/python3.8/site-packages (from bs4) (4.9.1)\n",
      "Requirement already satisfied: soupsieve>1.2 in /home/skankunt42/anaconda3/lib/python3.8/site-packages (from beautifulsoup4->bs4) (2.0.1)\n",
      "Note: you may need to restart the kernel to use updated packages.\n"
     ]
    }
   ],
   "source": [
    "%pip install requests requests_cache bs4\n",
    "\n",
    "import requests, requests_cache, sqlite3, random\n",
    "from datetime import datetime\n",
    "from bs4 import BeautifulSoup\n",
    "\n",
    "#pro vývoj je vhodné zapnout cache (viz přednáška), pro finalní otestovaní tento řádek zakomentujte\n",
    "#requests_cache.install_cache('devel') \n",
    "\n",
    "#nadeklarujeme si novy typ sloupce DECIMAL do sqlite3, abychom měli automatický převod mezi SQLite3 a Python\n",
    "from decimal import Decimal\n",
    "sqlite3.register_adapter(Decimal, lambda d: str(d))\n",
    "sqlite3.register_converter(\"DECIMAL\", lambda s: Decimal(s.decode('ascii')))"
   ]
  },
  {
   "cell_type": "markdown",
   "metadata": {},
   "source": [
    "### Deklarace funkce\n",
    "\n",
    "V následujícím boxu definujte funkci **sync(name)** s jedním parametrem (název souboru s DB), která provede zadanou operaci. \n",
    "Pro přístup k DB lze s ohledem na složitost zadání použít přímo funkcionalitu vestavěného modulu sqlite3 (viz https://docs.python.org/2/library/sqlite3.html).\n",
    "\n",
    "**TIP**: pro získání seznamu všech produktů lze použít endpoint https://www.alza.cz/Services/EShopService.svc/Filter\n",
    "\n",
    "Mohlo by se také hodit: https://curl.trillworks.com/"
   ]
  },
  {
   "cell_type": "code",
   "execution_count": 3,
   "metadata": {},
   "outputs": [],
   "source": [
    "# V tomto boxu pouze implementujte funkci ale nevolejte ji (pro vývoj si vytvořte vlastní buňky).\n",
    "# nezapomeňte na cookies a hlavičky, jinak se Vám může zobrazit otázka \"nejste robot?\"\n",
    "def sync(dbfile='data.sqlite'):\n",
    "    with sqlite3.connect(dbfile, detect_types=sqlite3.PARSE_DECLTYPES) as conn:\n",
    "        c = conn.cursor()\n",
    "        c.execute('''CREATE TABLE IF NOT EXISTS products\n",
    "                  (id TEXT, url TEXT, title TEXT, price DECIMAL, stock_state TEXT, last_update DATETIME, PRIMARY KEY(id,url))''')\n",
    "        \n",
    "        c.execute('''CREATE TABLE IF NOT EXISTS products_history\n",
    "                  (id TEXT, url TEXT, title TEXT, price DECIMAL, stock_state TEXT, last_update DATETIME)''')\n",
    "\n",
    "        c.execute('''CREATE INDEX IF NOT EXISTS idx_id ON products (id)''')\n",
    "        c.execute('''CREATE INDEX IF NOT EXISTS idx_idurl ON products_history (id, url)''')\n",
    "\n",
    "        s = requests.session()\n",
    "        \n",
    "        #zde dopiste kod, predpokladana delka cca 50 radku\n",
    "        #post data v json formate\n",
    "        json_data={\n",
    "         'idCategory': 18863907, \n",
    "         'producers': '', \n",
    "         'parameters': [], \n",
    "         'idPrefix': 0, \n",
    "         'prefixType': 0, \n",
    "         'page': 1, \n",
    "         'pageTo': 4, \n",
    "         'inStock': False, \n",
    "         'newsOnly': False, \n",
    "         'commodityStatusType': None, \n",
    "         'upperDescriptionStatus': 0, \n",
    "         'branchId': -2, \n",
    "         'sort': 0, \n",
    "         'categoryType': 1, \n",
    "         'searchTerm': '', \n",
    "         'sendProducers': False, \n",
    "         'layout': 0, \n",
    "         'append': False, \n",
    "         'leasingCatId': None, \n",
    "         'yearFrom': None, \n",
    "         'yearTo': None, \n",
    "         'artistId': None, \n",
    "         'minPrice': -1, \n",
    "         'maxPrice': -1, \n",
    "         'shouldDisplayVirtooal': False, \n",
    "         'callFromParametrizationDialog': False, \n",
    "         'commodityWearType': None, \n",
    "         'scroll': 15444.7998046875, \n",
    "         'hash': '#f&cst=null&cud=0&pg=1-4&prod=', \n",
    "         'counter': 3\n",
    "        }\n",
    "        # ziskanie dat\n",
    "        r = requests.post('https://www.alza.cz/Services/EShopService.svc/Filter', json=json_data)\n",
    "        r.encoding = 'utf-8'\n",
    "        # parsovanie jsonu\n",
    "        json = r.json()\n",
    "        html = json[\"d\"][\"Boxes\"]\n",
    "        # varenie polievky\n",
    "        polievka = BeautifulSoup(html, 'html.parser')\n",
    "        fotaky = polievka.find_all('div', class_='browsingitem')\n",
    "        for fotak in fotaky:\n",
    "            link = fotak.div.div.a\n",
    "            product_id = link[\"data-impression-id\"]\n",
    "            url_path = link[\"href\"]\n",
    "            title = link[\"data-impression-name\"]\n",
    "            price = float(link[\"data-impression-metric2\"].replace(',','.'))\n",
    "            stock = link[\"data-impression-dimension13\"]\n",
    "            # pridavanie do databazy\n",
    "            # kontrola existencie v products\n",
    "            c.execute('''SELECT * FROM products WHERE id=? AND url=?''', (product_id, url_path))\n",
    "            r = c.fetchone()\n",
    "            if r == None:\n",
    "                # prve vkladanie do products\n",
    "                c.execute('''INSERT INTO products VALUES (?,?,?,?,?,?)''', (product_id, url_path, title, price, stock, datetime.now()))\n",
    "            else:\n",
    "                # uz je v products - kontrola zmeny\n",
    "                if r[2] == title and r[3] == price and r[4] == stock:\n",
    "                    # ziadna zmena\n",
    "                    pass\n",
    "                else:\n",
    "                    # zmena, pridanie do history a aktualizovanie v products\n",
    "                    c.execute('''INSERT INTO products_history VALUES (?,?,?,?,?,?)''', (r[0], r[1], r[2], r[3], r[4], r[5]))\n",
    "                    c.execute('''DELETE FROM products WHERE id=? AND url=?''', (product_id, url_path))\n",
    "                    c.execute('''INSERT INTO products VALUES (?,?,?,?,?,?)''', (product_id, url_path, title, price, stock, datetime.now()))\n",
    "        ...      \n",
    "        conn.commit()        \n",
    "        c.close()"
   ]
  },
  {
   "cell_type": "markdown",
   "metadata": {},
   "source": [
    "### Ověření korektní funkce\n",
    "\n",
    "Na následujícím kódu lze ověřit základní funkcionalitu. Měly byste dostat stejný výstup jako je v ukázce. Protože se však stav e-shopu může měnit, uzpůsobte si eventuelně dotaz dle potřeb. Momentálně se testuje existence produktu https://www.alza.cz/sony-alpha-7ii?dq=2286288 ev. \n",
    "https://www.alza.cz/kod/OS072i1p5.\n",
    "\n",
    "Při ověřování korektní funkce Vaší implementace bude porovnán obsah DB vytvořený Vaší funkcí s předpokládaným obsahem DB v určitou dobu a poté znovu s několika hodinovým odstupem."
   ]
  },
  {
   "cell_type": "code",
   "execution_count": 6,
   "metadata": {},
   "outputs": [
    {
     "name": "stdout",
     "output_type": "stream",
     "text": [
      "('OS072i1p5', '/sony-alpha-7ii?dq=2286288', Decimal('31490'))\n",
      "[('OF7032a', '/fujifilm-x-t3?dq=5457426', Decimal('39990')), ('OF7032a', '/fujifilm-x-t3-telo-cerny-levne-d5754350.htm', Decimal('36989.7')), ('OF7032a', '/fujifilm-x-t3-telo-cerny-sleva-d5877920.htm', Decimal('33990.11'))]\n",
      "[('OS072i1m1', '/sony-alpha-a6400-telo-cerna-d5536396.htm', 'Sony Alpha A6400 tělo černá', Decimal('26990'), 'Skladem 2\\xa0ks', '2020-10-18 18:39:55.213627'), ('OS072i1p5', '/sony-alpha-7ii?dq=2286288', 'Sony Alpha A7 II tělo', Decimal('31490'), 'Skladem 5\\xa0ks', '2020-10-18 18:39:55.214067'), ('OS072b1', '/sony-alpha-a6000-telo?dq=1146581', 'Sony Alpha A6000 černý, tělo', Decimal('12490'), 'Skladem 1\\xa0ks', '2020-10-18 18:39:55.214813'), ('OF5104a', '/fujifilm-x-h1-telo-cerny-levne-d5466045.htm', 'Fujifilm X-H1 tělo černý', Decimal('21990.54'), 'Rozbaleno skladem', '2020-10-18 18:39:55.214992'), ('OF7032a', '/fujifilm-x-t3-telo-cerny-levne-d5754350.htm', 'Fujifilm X-T3 tělo černý', Decimal('36989.7'), 'Rozbaleno skladem', '2020-10-18 18:39:55.215064'), ('OF7032b', '/fujifilm-x-t3-telo-stribrny-levne-d5608966.htm', 'Fujifilm X-T3 tělo stříbrný', Decimal('37990.37'), 'Rozbaleno skladem', '2020-10-18 18:39:55.215110'), ('OF7032a', '/fujifilm-x-t3-telo-cerny-sleva-d5877920.htm', 'Fujifilm X-T3 tělo černý', Decimal('33990.11'), 'Zánovní skladem', '2020-10-18 18:39:55.215155'), ('OF7033b1', '/fujifilm-x-t30-telo-cerny-sleva-d5618654.htm', 'Fujifilm X-T30 tělo černý', Decimal('21489.6'), 'Zánovní skladem', '2020-10-18 18:39:55.215199'), ('OF8032a', '/fujifilm-x-t4-telo-cerny-sleva-d6158754.htm', 'Fujifilm X-T4 tělo černý', Decimal('44581.24'), 'Zánovní skladem', '2020-10-18 18:39:55.215243'), ('OL203c7a', '/olympus-e-m5-mark-ii-telo-cerne-bazar-d5521620.htm', 'Olympus E-M5 Mark II tělo černé', Decimal('24071.74'), 'Použité skladem', '2020-10-18 18:39:55.215286'), ('OL204a1', '/olympus-e-m10-mark-ii-portretni-kit-stribrny-levne-d4513606.htm', 'Olympus E-M10 Mark II - Portrétní Kit stříbrný', Decimal('9989.76'), 'Rozbaleno skladem', '2020-10-18 18:39:55.215330'), ('OL246a', '/olympus-e-m1-mark-ii-telo-cerne-levne-d5281780.htm', 'Olympus E-M1 Mark II tělo černé', Decimal('36989.7'), 'Rozbaleno skladem', '2020-10-18 18:39:55.215418'), ('OL247b', '/olympus-pen-e-pl9-telo-hnede-levne-d5697138.htm', 'Olympus PEN E-PL9 tělo hnědé', Decimal('12080.64'), 'Rozbaleno skladem', '2020-10-18 18:39:55.215462'), ('OL247a', '/olympus-pen-e-pl9-telo-bile-levne-d5575354.htm', 'Olympus PEN E-PL9 tělo bílé', Decimal('11989.89'), 'Rozbaleno skladem', '2020-10-18 18:39:55.215506'), ('ON105f', '/panasonic-lumix-dc-g9-telo-levne-d5448340.htm', 'Panasonic LUMIX DC-G9 tělo', Decimal('27489.99'), 'Rozbaleno skladem', '2020-10-18 18:39:55.215593'), ('ON107a', '/panasonic-lumix-dc-gx9-telo-stribrny-levne-d5520160.htm', 'Panasonic Lumix DC-GX9 tělo stříbrný', Decimal('14989.48'), 'Rozbaleno skladem', '2020-10-18 18:39:55.215680'), ('OS072i1pl', '/sony-alpha-a7r-ii-telo-levne-d5580139.htm', 'Sony Alpha A7R II tělo', Decimal('47989.81'), 'Rozbaleno skladem', '2020-10-18 18:39:55.215768'), ('OS072i1l1', '/sony-alpha-a6500-telo-levne-d4725671.htm', 'Sony Alpha A6500 tělo', Decimal('37990.37'), 'Rozbaleno skladem', '2020-10-18 18:39:55.215811'), ('OS072i1l1', '/sony-alpha-a6500-telo-sleva-d5122286.htm', 'Sony Alpha A6500 tělo', Decimal('34989.57'), 'Zánovní skladem', '2020-10-18 18:39:55.215899'), ('OL205a1', '/olympus-e-m10-mark-iii?dq=5102792', 'Olympus E-M10 Mark III tělo černé', Decimal('15690'), 'Skladem 2\\xa0ks', '2020-10-18 18:39:55.214251'), ('ON105e4', '/panasonic-lumix-dc-gh5s-telo-levne-d5305472.htm', 'Panasonic LUMIX DC-GH5S tělo', Decimal('49989.94'), 'Rozbaleno skladem', '2020-10-18 18:39:55.215637'), ('OC097c', '/canon-eos-r6?dq=5892850', 'Canon EOS R6 tělo', Decimal('73990'), 'Na cestě > 5\\xa0ks', '2020-10-18 18:39:55.216120'), ('ON107', '/panasonic-lumix-dc-gx9?dq=5268938', 'Panasonic Lumix DC-GX9 tělo černý', Decimal('16253.16'), 'Na objednávku do 4 pracovních dnů', '2020-10-18 18:39:55.216250'), ('ON107a', '/panasonic-lumix-dc-gx9?dq=5268939', 'Panasonic Lumix DC-GX9 tělo stříbrný', Decimal('15779.48'), 'Na objednávku do 4 pracovních dnů', '2020-10-18 18:39:55.216424')]\n",
      "OK\n"
     ]
    }
   ],
   "source": [
    "from contextlib import closing\n",
    "\n",
    "sync('data.sqlite')\n",
    "\n",
    "with sqlite3.connect('data.sqlite', detect_types=sqlite3.PARSE_DECLTYPES) as conn:\n",
    "    with closing(conn.cursor()) as c:\n",
    "        c.execute('SELECT id, url, price FROM products WHERE id=? AND url=? AND price>20000', ('OS072i1p5','/sony-alpha-7ii?dq=2286288'))\n",
    "        r = c.fetchone()\n",
    "        print(r)\n",
    "        assert(r != None)\n",
    "\n",
    "        c.execute('SELECT id, url, price FROM products WHERE id=? AND price>30000', ('OF7032a',))\n",
    "        r = c.fetchall()\n",
    "        print(r)\n",
    "        assert (len(r)>0 and '/fujifilm-x-t3?dq=5457426' in [a[1] for a in r])\n",
    "        \n",
    "        c.execute('SELECT * FROM products_history')\n",
    "        r = c.fetchall()\n",
    "        print(r)\n",
    "\n",
    "print(\"OK\")        "
   ]
  },
  {
   "cell_type": "markdown",
   "metadata": {},
   "source": [
    "### Komentář\n",
    "Do pole níže můžete vložit textový komentář týkající se tohoto úkolu. Např. jak dlouho Vám trvalo řešení, co bylo obtížné, co bylo se mělo více v rámci přenášky vysvětlit apod."
   ]
  },
  {
   "cell_type": "markdown",
   "metadata": {},
   "source": [
    "Trvanie asi 4 hodiny realnej prace. Prednáška vysvetlila zakladne princípy vporiadku, ale keď to človek prvý krát všetko robí naraz tak som sa s tym dosť trápil, najmä správne používanie všetkých knižníc, veľa hľadania v dokumentácii, veľa pokusov a omylov. Najviac problémov som mal so správnym formátom jsonu pre request.post, potom so správnym formatom vstupneho html pre BeatifulSoup. Pri vkladani do databázy som si dovolil doimportovať datetime kvoli časovemu razitku. Každopadne veľa som sa naučil pri tejto úlohe."
   ]
  }
 ],
 "metadata": {
  "kernelspec": {
   "display_name": "Python 3",
   "language": "python",
   "name": "python3"
  },
  "language_info": {
   "codemirror_mode": {
    "name": "ipython",
    "version": 3
   },
   "file_extension": ".py",
   "mimetype": "text/x-python",
   "name": "python",
   "nbconvert_exporter": "python",
   "pygments_lexer": "ipython3",
   "version": "3.8.5"
  }
 },
 "nbformat": 4,
 "nbformat_minor": 2
}
